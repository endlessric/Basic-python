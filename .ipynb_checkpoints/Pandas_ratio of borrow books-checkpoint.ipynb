{
 "cells": [
  {
   "cell_type": "code",
   "execution_count": 1,
   "metadata": {},
   "outputs": [],
   "source": [
    "%matplotlib inline\n",
    "import numpy as np\n",
    "import matplotlib.pyplot as plt\n",
    "import pandas as pd\n",
    "#探討個大學對於電子化資訊的需求多寡"
   ]
  },
  {
   "cell_type": "code",
   "execution_count": 2,
   "metadata": {},
   "outputs": [],
   "source": [
    "df = pd.read_csv('https://quality.data.gov.tw/dq_download_csv.php?nid=6288&md5_url=0563418ce8c623cdd5c5d918eea06d62') "
   ]
  },
  {
   "cell_type": "code",
   "execution_count": 3,
   "metadata": {
    "scrolled": true
   },
   "outputs": [
    {
     "data": {
      "text/html": [
       "<div>\n",
       "<style scoped>\n",
       "    .dataframe tbody tr th:only-of-type {\n",
       "        vertical-align: middle;\n",
       "    }\n",
       "\n",
       "    .dataframe tbody tr th {\n",
       "        vertical-align: top;\n",
       "    }\n",
       "\n",
       "    .dataframe thead th {\n",
       "        text-align: right;\n",
       "    }\n",
       "</style>\n",
       "<table border=\"1\" class=\"dataframe\">\n",
       "  <thead>\n",
       "    <tr style=\"text-align: right;\">\n",
       "      <th></th>\n",
       "      <th>學校代碼</th>\n",
       "      <th>學校名稱</th>\n",
       "      <th>中文圖書收藏冊數(冊)-總類</th>\n",
       "      <th>中文圖書收藏冊數(冊)-哲學類</th>\n",
       "      <th>中文圖書收藏冊數(冊)-宗教類</th>\n",
       "      <th>中文圖書收藏冊數(冊)-科學類</th>\n",
       "      <th>中文圖書收藏冊數(冊)-應用科學類</th>\n",
       "      <th>中文圖書收藏冊數(冊)-社會科學類</th>\n",
       "      <th>中文圖書收藏冊數(冊)-史地類</th>\n",
       "      <th>中文圖書收藏冊數(冊)-語言文學類</th>\n",
       "      <th>...</th>\n",
       "      <th>電子期刊(種)</th>\n",
       "      <th>電子書(種)</th>\n",
       "      <th>視聽資料(件)</th>\n",
       "      <th>圖書閱覽座位數(個)</th>\n",
       "      <th>全年圖書(含視聽資料及其他館藏)借閱人次(人次)</th>\n",
       "      <th>全年圖書(含視聽資料及其他館藏)借閱冊次(冊次)</th>\n",
       "      <th>全年線上及光碟資料庫(含電子書及電子期刊)檢索(人次)</th>\n",
       "      <th>報紙(種)</th>\n",
       "      <th>中.日文期刊(種)</th>\n",
       "      <th>西文期刊(種)</th>\n",
       "    </tr>\n",
       "  </thead>\n",
       "  <tbody>\n",
       "    <tr>\n",
       "      <th>0</th>\n",
       "      <td>1</td>\n",
       "      <td>國立政治大學</td>\n",
       "      <td>326716</td>\n",
       "      <td>50264</td>\n",
       "      <td>37698</td>\n",
       "      <td>31415</td>\n",
       "      <td>75396</td>\n",
       "      <td>301584</td>\n",
       "      <td>213622</td>\n",
       "      <td>201056</td>\n",
       "      <td>...</td>\n",
       "      <td>60524</td>\n",
       "      <td>741894</td>\n",
       "      <td>24603</td>\n",
       "      <td>2978</td>\n",
       "      <td>128733</td>\n",
       "      <td>386198</td>\n",
       "      <td>2732587</td>\n",
       "      <td>87</td>\n",
       "      <td>1826</td>\n",
       "      <td>1403</td>\n",
       "    </tr>\n",
       "    <tr>\n",
       "      <th>1</th>\n",
       "      <td>2</td>\n",
       "      <td>國立清華大學</td>\n",
       "      <td>80330</td>\n",
       "      <td>45612</td>\n",
       "      <td>25154</td>\n",
       "      <td>70903</td>\n",
       "      <td>87839</td>\n",
       "      <td>216160</td>\n",
       "      <td>129770</td>\n",
       "      <td>199748</td>\n",
       "      <td>...</td>\n",
       "      <td>150970</td>\n",
       "      <td>3546844</td>\n",
       "      <td>122765</td>\n",
       "      <td>3440</td>\n",
       "      <td>168306</td>\n",
       "      <td>461470</td>\n",
       "      <td>239163</td>\n",
       "      <td>27</td>\n",
       "      <td>2133</td>\n",
       "      <td>785</td>\n",
       "    </tr>\n",
       "    <tr>\n",
       "      <th>2</th>\n",
       "      <td>3</td>\n",
       "      <td>國立臺灣大學</td>\n",
       "      <td>144181</td>\n",
       "      <td>71021</td>\n",
       "      <td>43498</td>\n",
       "      <td>114475</td>\n",
       "      <td>325568</td>\n",
       "      <td>429073</td>\n",
       "      <td>281869</td>\n",
       "      <td>291545</td>\n",
       "      <td>...</td>\n",
       "      <td>54046</td>\n",
       "      <td>3206992</td>\n",
       "      <td>184316</td>\n",
       "      <td>3938</td>\n",
       "      <td>155454</td>\n",
       "      <td>481978</td>\n",
       "      <td>32772687</td>\n",
       "      <td>27</td>\n",
       "      <td>1990</td>\n",
       "      <td>1193</td>\n",
       "    </tr>\n",
       "    <tr>\n",
       "      <th>3</th>\n",
       "      <td>4</td>\n",
       "      <td>國立臺灣師範大學</td>\n",
       "      <td>142017</td>\n",
       "      <td>74321</td>\n",
       "      <td>24630</td>\n",
       "      <td>62745</td>\n",
       "      <td>77572</td>\n",
       "      <td>256911</td>\n",
       "      <td>161588</td>\n",
       "      <td>218935</td>\n",
       "      <td>...</td>\n",
       "      <td>107991</td>\n",
       "      <td>2649583</td>\n",
       "      <td>75182</td>\n",
       "      <td>1182</td>\n",
       "      <td>72631</td>\n",
       "      <td>194715</td>\n",
       "      <td>7685907</td>\n",
       "      <td>14</td>\n",
       "      <td>969</td>\n",
       "      <td>1492</td>\n",
       "    </tr>\n",
       "    <tr>\n",
       "      <th>4</th>\n",
       "      <td>5</td>\n",
       "      <td>國立成功大學</td>\n",
       "      <td>191300</td>\n",
       "      <td>35686</td>\n",
       "      <td>22415</td>\n",
       "      <td>43386</td>\n",
       "      <td>108872</td>\n",
       "      <td>126172</td>\n",
       "      <td>103013</td>\n",
       "      <td>128309</td>\n",
       "      <td>...</td>\n",
       "      <td>75040</td>\n",
       "      <td>784869</td>\n",
       "      <td>58257</td>\n",
       "      <td>2663</td>\n",
       "      <td>78764</td>\n",
       "      <td>493694</td>\n",
       "      <td>5359587</td>\n",
       "      <td>16</td>\n",
       "      <td>1809</td>\n",
       "      <td>171</td>\n",
       "    </tr>\n",
       "  </tbody>\n",
       "</table>\n",
       "<p>5 rows × 25 columns</p>\n",
       "</div>"
      ],
      "text/plain": [
       "   學校代碼      學校名稱  中文圖書收藏冊數(冊)-總類  中文圖書收藏冊數(冊)-哲學類  中文圖書收藏冊數(冊)-宗教類  \\\n",
       "0     1    國立政治大學          326716            50264            37698   \n",
       "1     2    國立清華大學           80330            45612            25154   \n",
       "2     3    國立臺灣大學          144181            71021            43498   \n",
       "3     4  國立臺灣師範大學          142017            74321            24630   \n",
       "4     5    國立成功大學          191300            35686            22415   \n",
       "\n",
       "   中文圖書收藏冊數(冊)-科學類  中文圖書收藏冊數(冊)-應用科學類  中文圖書收藏冊數(冊)-社會科學類  中文圖書收藏冊數(冊)-史地類  \\\n",
       "0            31415              75396             301584           213622   \n",
       "1            70903              87839             216160           129770   \n",
       "2           114475             325568             429073           281869   \n",
       "3            62745              77572             256911           161588   \n",
       "4            43386             108872             126172           103013   \n",
       "\n",
       "   中文圖書收藏冊數(冊)-語言文學類   ...     電子期刊(種)   電子書(種)  視聽資料(件)  圖書閱覽座位數(個)  \\\n",
       "0             201056   ...       60524   741894    24603        2978   \n",
       "1             199748   ...      150970  3546844   122765        3440   \n",
       "2             291545   ...       54046  3206992   184316        3938   \n",
       "3             218935   ...      107991  2649583    75182        1182   \n",
       "4             128309   ...       75040   784869    58257        2663   \n",
       "\n",
       "   全年圖書(含視聽資料及其他館藏)借閱人次(人次)  全年圖書(含視聽資料及其他館藏)借閱冊次(冊次)  \\\n",
       "0                    128733                    386198   \n",
       "1                    168306                    461470   \n",
       "2                    155454                    481978   \n",
       "3                     72631                    194715   \n",
       "4                     78764                    493694   \n",
       "\n",
       "   全年線上及光碟資料庫(含電子書及電子期刊)檢索(人次)  報紙(種)  中.日文期刊(種)  西文期刊(種)  \n",
       "0                      2732587     87       1826     1403  \n",
       "1                       239163     27       2133      785  \n",
       "2                     32772687     27       1990     1193  \n",
       "3                      7685907     14        969     1492  \n",
       "4                      5359587     16       1809      171  \n",
       "\n",
       "[5 rows x 25 columns]"
      ]
     },
     "execution_count": 3,
     "metadata": {},
     "output_type": "execute_result"
    }
   ],
   "source": [
    "df.head()"
   ]
  },
  {
   "cell_type": "code",
   "execution_count": 4,
   "metadata": {
    "scrolled": true
   },
   "outputs": [],
   "source": [
    "borrow = df.loc[:,['學校名稱','全年圖書(含視聽資料及其他館藏)借閱人次(人次)','全年圖書(含視聽資料及其他館藏)借閱冊次(冊次)']].copy()"
   ]
  },
  {
   "cell_type": "code",
   "execution_count": 6,
   "metadata": {},
   "outputs": [
    {
     "data": {
      "text/plain": [
       "'zh_TW.UTF-8'"
      ]
     },
     "execution_count": 6,
     "metadata": {},
     "output_type": "execute_result"
    }
   ],
   "source": [
    "import locale\n",
    "locale.setlocale(locale.LC_NUMERIC, '')"
   ]
  },
  {
   "cell_type": "code",
   "execution_count": 7,
   "metadata": {
    "scrolled": true
   },
   "outputs": [],
   "source": [
    "borrow['平均每人借閱的書本'] = borrow['全年圖書(含視聽資料及其他館藏)借閱冊次(冊次)'] / borrow['全年圖書(含視聽資料及其他館藏)借閱人次(人次)']"
   ]
  },
  {
   "cell_type": "code",
   "execution_count": 8,
   "metadata": {},
   "outputs": [
    {
     "data": {
      "text/html": [
       "<div>\n",
       "<style scoped>\n",
       "    .dataframe tbody tr th:only-of-type {\n",
       "        vertical-align: middle;\n",
       "    }\n",
       "\n",
       "    .dataframe tbody tr th {\n",
       "        vertical-align: top;\n",
       "    }\n",
       "\n",
       "    .dataframe thead th {\n",
       "        text-align: right;\n",
       "    }\n",
       "</style>\n",
       "<table border=\"1\" class=\"dataframe\">\n",
       "  <thead>\n",
       "    <tr style=\"text-align: right;\">\n",
       "      <th></th>\n",
       "      <th>學校名稱</th>\n",
       "      <th>全年圖書(含視聽資料及其他館藏)借閱人次(人次)</th>\n",
       "      <th>全年圖書(含視聽資料及其他館藏)借閱冊次(冊次)</th>\n",
       "      <th>平均每人借閱的書本</th>\n",
       "    </tr>\n",
       "  </thead>\n",
       "  <tbody>\n",
       "    <tr>\n",
       "      <th>0</th>\n",
       "      <td>國立政治大學</td>\n",
       "      <td>128733</td>\n",
       "      <td>386198</td>\n",
       "      <td>2.999992</td>\n",
       "    </tr>\n",
       "    <tr>\n",
       "      <th>1</th>\n",
       "      <td>國立清華大學</td>\n",
       "      <td>168306</td>\n",
       "      <td>461470</td>\n",
       "      <td>2.741851</td>\n",
       "    </tr>\n",
       "    <tr>\n",
       "      <th>2</th>\n",
       "      <td>國立臺灣大學</td>\n",
       "      <td>155454</td>\n",
       "      <td>481978</td>\n",
       "      <td>3.100454</td>\n",
       "    </tr>\n",
       "    <tr>\n",
       "      <th>3</th>\n",
       "      <td>國立臺灣師範大學</td>\n",
       "      <td>72631</td>\n",
       "      <td>194715</td>\n",
       "      <td>2.680880</td>\n",
       "    </tr>\n",
       "    <tr>\n",
       "      <th>4</th>\n",
       "      <td>國立成功大學</td>\n",
       "      <td>78764</td>\n",
       "      <td>493694</td>\n",
       "      <td>6.268016</td>\n",
       "    </tr>\n",
       "  </tbody>\n",
       "</table>\n",
       "</div>"
      ],
      "text/plain": [
       "       學校名稱  全年圖書(含視聽資料及其他館藏)借閱人次(人次)  全年圖書(含視聽資料及其他館藏)借閱冊次(冊次)  平均每人借閱的書本\n",
       "0    國立政治大學                    128733                    386198   2.999992\n",
       "1    國立清華大學                    168306                    461470   2.741851\n",
       "2    國立臺灣大學                    155454                    481978   3.100454\n",
       "3  國立臺灣師範大學                     72631                    194715   2.680880\n",
       "4    國立成功大學                     78764                    493694   6.268016"
      ]
     },
     "execution_count": 8,
     "metadata": {},
     "output_type": "execute_result"
    }
   ],
   "source": [
    "borrow.head()"
   ]
  },
  {
   "cell_type": "code",
   "execution_count": 9,
   "metadata": {},
   "outputs": [],
   "source": [
    "borrow_sort = borrow.sort_values(by = ['平均每人借閱的書本'], ascending=False)"
   ]
  },
  {
   "cell_type": "code",
   "execution_count": 11,
   "metadata": {},
   "outputs": [
    {
     "data": {
      "text/plain": [
       "<matplotlib.axes._subplots.AxesSubplot at 0x7fa9f437d668>"
      ]
     },
     "execution_count": 11,
     "metadata": {},
     "output_type": "execute_result"
    },
    {
     "data": {
      "image/png": "[encoded data removed]",
      "text/plain": [
       "<Figure size 432x288 with 1 Axes>"
      ]
     },
     "metadata": {
      "needs_background": "light"
     },
     "output_type": "display_data"
    }
   ],
   "source": [
    "borrow_sort[:10].plot.bar(x='學校名稱', y=['平均每人借閱的書本'])"
   ]
  },
  {
   "cell_type": "code",
   "execution_count": null,
   "metadata": {},
   "outputs": [],
   "source": []
  }
 ],
 "metadata": {
  "kernelspec": {
   "display_name": "Python 3",
   "language": "python",
   "name": "python3"
  },
  "language_info": {
   "codemirror_mode": {
    "name": "ipython",
    "version": 3
   },
   "file_extension": ".py",
   "mimetype": "text/x-python",
   "name": "python",
   "nbconvert_exporter": "python",
   "pygments_lexer": "ipython3",
   "version": "3.7.1"
  }
 },
 "nbformat": 4,
 "nbformat_minor": 2
}
