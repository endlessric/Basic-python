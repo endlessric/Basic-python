{
 "cells": [
  {
   "cell_type": "code",
   "execution_count": 1,
   "metadata": {},
   "outputs": [
    {
     "data": {
      "text/plain": [
       "'zh_TW.UTF-8'"
      ]
     },
     "execution_count": 1,
     "metadata": {},
     "output_type": "execute_result"
    }
   ],
   "source": [
    "##排行各學校圖書館內,每人平均借閱書籍\n",
    "%matplotlib inline\n",
    "import numpy as np\n",
    "import matplotlib.pyplot as plt\n",
    "import pandas as pd\n",
    "import locale\n",
    "locale.setlocale(locale.LC_NUMERIC, '')\n"
   ]
  },
  {
   "cell_type": "code",
   "execution_count": 2,
   "metadata": {},
   "outputs": [],
   "source": [
    "df = pd.read_csv('https://quality.data.gov.tw/dq_download_csv.php?nid=6288&md5_url=0563418ce8c623cdd5c5d918eea06d62') "
   ]
  },
  {
   "cell_type": "code",
   "execution_count": 3,
   "metadata": {},
   "outputs": [],
   "source": [
    "borrow = df.loc[:,['學校名稱','全年圖書(含視聽資料及其他館藏)借閱人次(人次)','全年圖書(含視聽資料及其他館藏)借閱冊次(冊次)']].copy()"
   ]
  },
  {
   "cell_type": "code",
   "execution_count": 4,
   "metadata": {},
   "outputs": [],
   "source": [
    "borrow['平均每人借閱的書本'] = borrow['全年圖書(含視聽資料及其他館藏)借閱冊次(冊次)'] / borrow['全年圖書(含視聽資料及其他館藏)借閱人次(人次)']"
   ]
  },
  {
   "cell_type": "code",
   "execution_count": 5,
   "metadata": {},
   "outputs": [
    {
     "data": {
      "text/html": [
       "<div>\n",
       "<style scoped>\n",
       "    .dataframe tbody tr th:only-of-type {\n",
       "        vertical-align: middle;\n",
       "    }\n",
       "\n",
       "    .dataframe tbody tr th {\n",
       "        vertical-align: top;\n",
       "    }\n",
       "\n",
       "    .dataframe thead th {\n",
       "        text-align: right;\n",
       "    }\n",
       "</style>\n",
       "<table border=\"1\" class=\"dataframe\">\n",
       "  <thead>\n",
       "    <tr style=\"text-align: right;\">\n",
       "      <th></th>\n",
       "      <th>學校名稱</th>\n",
       "      <th>全年圖書(含視聽資料及其他館藏)借閱人次(人次)</th>\n",
       "      <th>全年圖書(含視聽資料及其他館藏)借閱冊次(冊次)</th>\n",
       "      <th>平均每人借閱的書本</th>\n",
       "    </tr>\n",
       "  </thead>\n",
       "  <tbody>\n",
       "    <tr>\n",
       "      <th>0</th>\n",
       "      <td>國立政治大學</td>\n",
       "      <td>128733</td>\n",
       "      <td>386198</td>\n",
       "      <td>2.999992</td>\n",
       "    </tr>\n",
       "    <tr>\n",
       "      <th>1</th>\n",
       "      <td>國立清華大學</td>\n",
       "      <td>168306</td>\n",
       "      <td>461470</td>\n",
       "      <td>2.741851</td>\n",
       "    </tr>\n",
       "    <tr>\n",
       "      <th>2</th>\n",
       "      <td>國立臺灣大學</td>\n",
       "      <td>155454</td>\n",
       "      <td>481978</td>\n",
       "      <td>3.100454</td>\n",
       "    </tr>\n",
       "    <tr>\n",
       "      <th>3</th>\n",
       "      <td>國立臺灣師範大學</td>\n",
       "      <td>72631</td>\n",
       "      <td>194715</td>\n",
       "      <td>2.680880</td>\n",
       "    </tr>\n",
       "    <tr>\n",
       "      <th>4</th>\n",
       "      <td>國立成功大學</td>\n",
       "      <td>78764</td>\n",
       "      <td>493694</td>\n",
       "      <td>6.268016</td>\n",
       "    </tr>\n",
       "  </tbody>\n",
       "</table>\n",
       "</div>"
      ],
      "text/plain": [
       "       學校名稱  全年圖書(含視聽資料及其他館藏)借閱人次(人次)  全年圖書(含視聽資料及其他館藏)借閱冊次(冊次)  平均每人借閱的書本\n",
       "0    國立政治大學                    128733                    386198   2.999992\n",
       "1    國立清華大學                    168306                    461470   2.741851\n",
       "2    國立臺灣大學                    155454                    481978   3.100454\n",
       "3  國立臺灣師範大學                     72631                    194715   2.680880\n",
       "4    國立成功大學                     78764                    493694   6.268016"
      ]
     },
     "execution_count": 5,
     "metadata": {},
     "output_type": "execute_result"
    }
   ],
   "source": [
    "borrow.head()"
   ]
  },
  {
   "cell_type": "code",
   "execution_count": 6,
   "metadata": {},
   "outputs": [],
   "source": [
    "borrow_sort = borrow.sort_values(by = ['平均每人借閱的書本'], ascending=False)"
   ]
  },
  {
   "cell_type": "code",
   "execution_count": 7,
   "metadata": {},
   "outputs": [
    {
     "data": {
      "text/plain": [
       "<matplotlib.axes._subplots.AxesSubplot at 0x7f61d9c2ebe0>"
      ]
     },
     "execution_count": 7,
     "metadata": {},
     "output_type": "execute_result"
    },
    {
     "data": {
      "image/png": "[encoded data removed]",
      "text/plain": [
       "<Figure size 432x288 with 1 Axes>"
      ]
     },
     "metadata": {
      "needs_background": "light"
     },
     "output_type": "display_data"
    }
   ],
   "source": [
    "borrow_sort[:10].plot.bar(x='學校名稱', y=['平均每人借閱的書本'])"
   ]
  },
  {
   "cell_type": "code",
   "execution_count": null,
   "metadata": {},
   "outputs": [],
   "source": []
  }
 ],
 "metadata": {
  "kernelspec": {
   "display_name": "Python 3",
   "language": "python",
   "name": "python3"
  },
  "language_info": {
   "codemirror_mode": {
    "name": "ipython",
    "version": 3
   },
   "file_extension": ".py",
   "mimetype": "text/x-python",
   "name": "python",
   "nbconvert_exporter": "python",
   "pygments_lexer": "ipython3",
   "version": "3.7.1"
  }
 },
 "nbformat": 4,
 "nbformat_minor": 2
}
